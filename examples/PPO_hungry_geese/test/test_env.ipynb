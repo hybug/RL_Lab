{
 "metadata": {
  "language_info": {
   "codemirror_mode": {
    "name": "ipython",
    "version": 3
   },
   "file_extension": ".py",
   "mimetype": "text/x-python",
   "name": "python",
   "nbconvert_exporter": "python",
   "pygments_lexer": "ipython3",
   "version": "3.6.8"
  },
  "orig_nbformat": 2,
  "kernelspec": {
   "name": "python3",
   "display_name": "Python 3",
   "language": "python"
  }
 },
 "nbformat": 4,
 "nbformat_minor": 2,
 "cells": [
  {
   "cell_type": "code",
   "execution_count": 5,
   "metadata": {},
   "outputs": [],
   "source": [
    "from kaggle_environments.envs.hungry_geese.hungry_geese import Observation, Configuration, Action, row_col\n",
    "from kaggle_environments import evaluate, make, utils"
   ]
  },
  {
   "cell_type": "code",
   "execution_count": 6,
   "metadata": {},
   "outputs": [],
   "source": [
    "def agent(obs_dict, config_dict):\n",
    "    \"\"\"This agent always moves toward observation.food[0] but does not take advantage of board wrapping\"\"\"\n",
    "    #print(\"Config dict\", config_dict) # Config is static\n",
    "    print(\"Observation dict\", obs_dict) # This changes over each timestep (your observations change over time poggers)\n",
    "    print(obs_dict['step']) # This and obs_dict.step are the exact same. No idea which one's better.\n",
    "    \n",
    "    observation = Observation(obs_dict) # -> Why is obs_dict wrapped in Observation? What does that do vs just obs_dict?\n",
    "    print('ho', observation)\n",
    "    \n",
    "    configuration = Configuration(config_dict)\n",
    "    player_index = observation.index\n",
    "    player_goose = observation.geese[player_index]\n",
    "    player_head = player_goose[0]\n",
    "    player_row, player_column = row_col(player_head, configuration.columns)\n",
    "    food = observation.food[0]\n",
    "    food_row, food_column = row_col(food, configuration.columns)\n",
    "\n",
    "    if food_row > player_row:\n",
    "        return Action.SOUTH.name\n",
    "    if food_row < player_row:\n",
    "        return Action.NORTH.name\n",
    "    if food_column > player_column:\n",
    "        return Action.EAST.name\n",
    "    return Action.WEST.name"
   ]
  },
  {
   "cell_type": "code",
   "execution_count": 2,
   "metadata": {},
   "outputs": [
    {
     "output_type": "error",
     "ename": "ModuleNotFoundError",
     "evalue": "No module named 'examples'",
     "traceback": [
      "\u001b[0;31m---------------------------------------------------------------------------\u001b[0m",
      "\u001b[0;31mModuleNotFoundError\u001b[0m                       Traceback (most recent call last)",
      "\u001b[0;32m<ipython-input-2-bf4a212e7784>\u001b[0m in \u001b[0;36m<module>\u001b[0;34m\u001b[0m\n\u001b[0;32m----> 1\u001b[0;31m \u001b[0;32mfrom\u001b[0m \u001b[0mexamples\u001b[0m\u001b[0;34m.\u001b[0m\u001b[0mPPO_hungry_geese\u001b[0m\u001b[0;34m.\u001b[0m\u001b[0menv\u001b[0m \u001b[0;32mimport\u001b[0m \u001b[0m_warp_env\u001b[0m\u001b[0;34m\u001b[0m\u001b[0;34m\u001b[0m\u001b[0m\n\u001b[0m\u001b[1;32m      2\u001b[0m \u001b[0;32mimport\u001b[0m \u001b[0mrandom\u001b[0m\u001b[0;34m\u001b[0m\u001b[0;34m\u001b[0m\u001b[0m\n",
      "\u001b[0;31mModuleNotFoundError\u001b[0m: No module named 'examples'"
     ]
    }
   ],
   "source": [
    "from examples.PPO_hungry_geese.env import _warp_env\n",
    "import random"
   ]
  },
  {
   "cell_type": "code",
   "execution_count": null,
   "metadata": {},
   "outputs": [],
   "source": [
    "Env = _warp_env()\n",
    "env = Env()\n",
    "\n",
    "obs = env.reset(True)\n",
    "is_terminal = False\n",
    "while not is_terminal:\n",
    "    actions = {idx: random.choice([0, 1, 3, 4]) for idx in range(env.num_agents)}\n",
    "    obs, reward, is_terminal, info = env.step(actions)"
   ]
  }
 ]
}